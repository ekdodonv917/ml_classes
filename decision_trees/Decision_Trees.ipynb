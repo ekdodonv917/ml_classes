{
  "nbformat": 4,
  "nbformat_minor": 0,
  "metadata": {
    "colab": {
      "name": "Decision_Trees.ipynb",
      "provenance": [],
      "collapsed_sections": []
    },
    "kernelspec": {
      "name": "python3",
      "display_name": "Python 3"
    },
    "language_info": {
      "name": "python"
    }
  },
  "cells": [
    {
      "cell_type": "code",
      "metadata": {
        "id": "IeMGlN1jSB3S"
      },
      "source": [
        "from functools import partial\n",
        "from collections import Counter\n",
        "\n",
        "import numpy as np\n",
        "import pandas as pd"
      ],
      "execution_count": 38,
      "outputs": []
    },
    {
      "cell_type": "code",
      "metadata": {
        "id": "RfvGdZy2SBB6"
      },
      "source": [
        "class Tree:\n",
        "    '''Create a binary tree; keyword-only arguments `data`, `left`, `right`.\n",
        "    Examples:\n",
        "    l1 = Tree.leaf(\"leaf1\")\n",
        "    l2 = Tree.leaf(\"leaf2\")\n",
        "    tree = Tree(data=\"root\", left=l1, right=Tree(right=l2))\n",
        "    '''\n",
        "\n",
        "    def leaf(data):\n",
        "        '''Create a leaf tree\n",
        "        '''\n",
        "        return Tree(data=data)\n",
        "\n",
        "    # pretty-print trees\n",
        "    def __repr__(self):\n",
        "        if self.is_leaf():\n",
        "            return \"Leaf(%r)\" % self.data\n",
        "        else:\n",
        "            return \"Tree(%r) { left = %r, right = %r }\" % (self.data, self.left, self.right)\n",
        "\n",
        "    # all arguments after `*` are *keyword-only*!\n",
        "    def __init__(self, *, data = None, left = None, right = None):\n",
        "        self.data = data\n",
        "        self.left = left\n",
        "        self.right = right\n",
        "\n",
        "    def is_leaf(self):\n",
        "        '''Check if this tree is a leaf tree\n",
        "        '''\n",
        "        return self.left == None and self.right == None\n",
        "\n",
        "    def children(self):\n",
        "        '''List of child subtrees\n",
        "        '''\n",
        "        return [x for x in [self.left, self.right] if x]\n",
        "\n",
        "    def depth(self):\n",
        "        '''Compute the depth of a tree\n",
        "        A leaf is depth-1, and a child is one deeper than the parent.\n",
        "        '''\n",
        "        return max([x.depth() for x in self.children()], default=0) + 1"
      ],
      "execution_count": 39,
      "outputs": []
    },
    {
      "cell_type": "code",
      "metadata": {
        "colab": {
          "base_uri": "https://localhost:8080/"
        },
        "id": "I83k_Q7pSIfu",
        "outputId": "0c863f12-6add-45b6-fb50-dc2cd99333d6"
      },
      "source": [
        "l_nah = Tree.leaf('nah')\n",
        "l_like = Tree.leaf('like')\n",
        "\n",
        "\n",
        "Tr_1 = Tree(data = 'likedOtherSys?', left = l_nah, right = l_like)\n",
        "Tr_2 = Tree(data = 'morning?', left = l_like, right = l_nah)\n",
        "Tr_3 = Tree(data = 'takenOtherSys?', left = Tr_2, right = Tr_1)\n",
        "Tr_4 = Tree(data = 'isSystems?', left = l_like, right = Tr_3)\n",
        "print(Tr_4)"
      ],
      "execution_count": 41,
      "outputs": [
        {
          "output_type": "stream",
          "text": [
            "Tree('isSystems?') { left = Leaf('like'), right = Tree('takenOtherSys?') { left = Tree('morning?') { left = Leaf('like'), right = Leaf('nah') }, right = Tree('likedOtherSys?') { left = Leaf('nah'), right = Leaf('like') } } }\n"
          ],
          "name": "stdout"
        }
      ]
    },
    {
      "cell_type": "markdown",
      "metadata": {
        "id": "5OUeRXZrSQR5"
      },
      "source": [
        "Task 2"
      ]
    },
    {
      "cell_type": "code",
      "metadata": {
        "colab": {
          "base_uri": "https://localhost:8080/"
        },
        "id": "nLc7kvhhXtIC",
        "outputId": "f5077a7d-c705-4bff-a96a-adc7ed661eb8"
      },
      "source": [
        "df = pd.read_csv('data.csv')\n",
        "df = df.assign(ok=lambda df: df.rating >= 0)\n",
        "print(df, '\\n')"
      ],
      "execution_count": 42,
      "outputs": [
        {
          "output_type": "stream",
          "text": [
            "    rating   easy     ai  systems  theory  morning     ok\n",
            "0        2   True   True    False    True    False   True\n",
            "1        2   True   True    False    True    False   True\n",
            "2        2  False   True    False   False    False   True\n",
            "3        2  False  False    False    True    False   True\n",
            "4        2  False   True     True   False     True   True\n",
            "5        1   True   True    False   False    False   True\n",
            "6        1   True   True    False    True    False   True\n",
            "7        1  False   True    False    True    False   True\n",
            "8        0  False  False    False   False     True   True\n",
            "9        0   True  False    False    True     True   True\n",
            "10       0  False   True    False    True    False   True\n",
            "11       0   True   True     True    True     True   True\n",
            "12      -1   True   True     True   False     True  False\n",
            "13      -1  False  False     True    True    False  False\n",
            "14      -1  False  False     True   False     True  False\n",
            "15      -1   True  False     True   False     True  False\n",
            "16      -2  False  False     True    True    False  False\n",
            "17      -2  False   True     True   False     True  False\n",
            "18      -2   True  False     True   False    False  False\n",
            "19      -2   True  False     True   False     True  False \n",
            "\n"
          ],
          "name": "stdout"
        }
      ]
    },
    {
      "cell_type": "markdown",
      "metadata": {
        "id": "ypM3Do7nTzjW"
      },
      "source": [
        "Task 3"
      ]
    },
    {
      "cell_type": "code",
      "metadata": {
        "id": "ZeAut_iYq_Zb"
      },
      "source": [
        "def single_feature_score(data, goal, feature):\n",
        "\n",
        "    true_match = 0\n",
        "    false_match = 0\n",
        "    true_items = data[data[feature] == True][goal]\n",
        "    false_items = data[data[feature] == False][goal]\n",
        "    \n",
        "    if len(true_items) != 0:\n",
        "        true_most_common = Counter(true_items.tolist()).most_common(1)[0][0]\n",
        "        true_match = true_items.value_counts()[true_most_common]        \n",
        "    \n",
        "    if len(false_items) != 0:\n",
        "        false_most_common = Counter(false_items.tolist()).most_common(1)[0][0]\n",
        "        false_match = false_items.value_counts()[false_most_common]      \n",
        "    \n",
        "    return (true_match + false_match) / len(data)"
      ],
      "execution_count": 64,
      "outputs": []
    },
    {
      "cell_type": "code",
      "metadata": {
        "id": "yxa0bfexq_TS"
      },
      "source": [
        "def best_and_worst_feature(data, goal, features):\n",
        "    scorer = partial(single_feature_score, data, goal)\n",
        "    return max(features, key=scorer), min(features, key=scorer)"
      ],
      "execution_count": 65,
      "outputs": []
    },
    {
      "cell_type": "code",
      "metadata": {
        "id": "ouRszFhYq_MY"
      },
      "source": [
        "features = df.drop(['rating', 'ok'], axis=1).columns.tolist()\n",
        "b, w =  best_and_worst_feature(df, 'ok', features)\n",
        "b_score = single_feature_score(df, 'ok', b)\n",
        "w_score = single_feature_score(df, 'ok', w)\n"
      ],
      "execution_count": 66,
      "outputs": []
    },
    {
      "cell_type": "code",
      "metadata": {
        "colab": {
          "base_uri": "https://localhost:8080/"
        },
        "id": "RA4oLuAyrHlh",
        "outputId": "0f7a6f7d-6d04-4b5f-b4e9-c66ce77fa9af"
      },
      "source": [
        "print(b_score)\n",
        "print(w_score)"
      ],
      "execution_count": 67,
      "outputs": [
        {
          "output_type": "stream",
          "text": [
            "0.9\n",
            "0.6\n"
          ],
          "name": "stdout"
        }
      ]
    },
    {
      "cell_type": "markdown",
      "metadata": {
        "id": "_2ydEBVHUK4-"
      },
      "source": [
        "Task 4"
      ]
    },
    {
      "cell_type": "code",
      "metadata": {
        "colab": {
          "base_uri": "https://localhost:8080/"
        },
        "id": "Vw8yT41LWDP1",
        "outputId": "3896117b-299d-44bc-f0f9-683f116a643c"
      },
      "source": [
        "len(pd.unique([1, 2, 1]))"
      ],
      "execution_count": 27,
      "outputs": [
        {
          "output_type": "execute_result",
          "data": {
            "text/plain": [
              "2"
            ]
          },
          "metadata": {
            "tags": []
          },
          "execution_count": 27
        }
      ]
    },
    {
      "cell_type": "code",
      "metadata": {
        "id": "vYu1_Y7-sTOF"
      },
      "source": [
        "def DecisionTreeTrain(data, goal, features):\n",
        "    \n",
        "    guess = Counter(data[goal].tolist()).most_common(1)[0][0]\n",
        "    \n",
        "    if len(features) == 0 or len(pd.unique(data[goal])) == 1:\n",
        "        return Tree.leaf(guess)\n",
        "    else:\n",
        "        b, _ = best_and_worst_feature(data, goal, features)\n",
        "        remaining_features = features.copy()\n",
        "        remaining_features.remove(b)        \n",
        "        true_items = data[data[b] == True]\n",
        "        false_items = data[data[b] == False]\n",
        "        \n",
        "        if len(true_items) != 0:\n",
        "            right = DecisionTreeTrain(true_items, goal, remaining_features)\n",
        "        else:\n",
        "            right = Tree.leaf(guess)\n",
        "        \n",
        "        if len(false_items) != 0:\n",
        "            left = DecisionTreeTrain(false_items, goal, remaining_features)\n",
        "        else:\n",
        "            left = Tree.leaf(guess)         \n",
        "        \n",
        "        return Tree(data=b, left=left, right=right)\n",
        "    \n",
        "def DecisionTreeTest(tree, data_point):\n",
        "    if tree.is_leaf():\n",
        "        return tree.data\n",
        "    else:\n",
        "        feature_name = tree.data\n",
        "        if not data_point[feature_name]:\n",
        "            return DecisionTreeTest(tree.left, data_point)\n",
        "        else:\n",
        "            return DecisionTreeTest(tree.right, data_point)"
      ],
      "execution_count": 69,
      "outputs": []
    },
    {
      "cell_type": "code",
      "metadata": {
        "colab": {
          "base_uri": "https://localhost:8080/"
        },
        "id": "5m-5CaVHsvAG",
        "outputId": "cca93d1f-6a74-41ad-c9bf-1397696d3543"
      },
      "source": [
        "tr = DecisionTreeTrain(df, 'ok', features)\n",
        "print(tr)"
      ],
      "execution_count": 70,
      "outputs": [
        {
          "output_type": "stream",
          "text": [
            "Tree('systems') { left = Leaf(True), right = Tree('easy') { left = Tree('ai') { left = Leaf(False), right = Tree('theory') { left = Tree('morning') { left = Leaf(True), right = Leaf(True) }, right = Leaf(True) } }, right = Tree('theory') { left = Leaf(False), right = Leaf(True) } } }\n"
          ],
          "name": "stdout"
        }
      ]
    },
    {
      "cell_type": "markdown",
      "metadata": {
        "id": "gdLi7JDCUZ_J"
      },
      "source": [
        "Task 5"
      ]
    },
    {
      "cell_type": "code",
      "metadata": {
        "id": "a-2FseE3rsUv"
      },
      "source": [
        "def DecisionTreeTrainWithMaxDepth(data, goal, features, max_depth):\n",
        "    \n",
        "    guess = Counter(data[goal].tolist()).most_common(1)[0][0]\n",
        "    \n",
        "    if len(features) == 0 or len(pd.unique(data[goal])) == 1 or max_depth == 0:\n",
        "        return Tree.leaf(guess)\n",
        "    else:\n",
        "        b, _ = best_and_worst_feature(data, goal, features)\n",
        "        remain_features = features.copy()\n",
        "        remain_features.remove(b)        \n",
        "        true_items = data[data[b] == True]\n",
        "        false_items = data[data[b] == False]\n",
        "        \n",
        "        if len(true_items) != 0:\n",
        "            right = DecisionTreeTrainWithMaxDepth(true_items, goal, remain_features, max_depth-1)\n",
        "        else:\n",
        "            right = Tree.leaf(guess)\n",
        "        \n",
        "        if len(false_items) != 0:\n",
        "            left = DecisionTreeTrainWithMaxDepth(false_items, goal, remain_features, max_depth-1)\n",
        "        else:\n",
        "            left = Tree.leaf(guess)         \n",
        "        \n",
        "        return Tree(data=b, left=left, right=right)"
      ],
      "execution_count": 75,
      "outputs": []
    },
    {
      "cell_type": "code",
      "metadata": {
        "colab": {
          "base_uri": "https://localhost:8080/"
        },
        "id": "wi89Kuajs1nq",
        "outputId": "648ce545-4bb3-4a10-e237-033538febf68"
      },
      "source": [
        "tr2 = DecisionTreeTrainWithMaxDepth(df, 'ok', features, max_depth=3)\n",
        "print(tr2)"
      ],
      "execution_count": 76,
      "outputs": [
        {
          "output_type": "stream",
          "text": [
            "Tree('systems') { left = Leaf(True), right = Tree('easy') { left = Tree('ai') { left = Leaf(False), right = Leaf(True) }, right = Tree('theory') { left = Leaf(False), right = Leaf(True) } } }\n"
          ],
          "name": "stdout"
        }
      ]
    },
    {
      "cell_type": "markdown",
      "metadata": {
        "id": "NZYrwIBBtPnJ"
      },
      "source": [
        "Performance"
      ]
    },
    {
      "cell_type": "code",
      "metadata": {
        "id": "6d5e5ILis_D9"
      },
      "source": [
        "def calc_accuracy(tree, goal, data):\n",
        "    data = data.to_dict(orient='records')\n",
        "    \n",
        "    prediction_y = [DecisionTreeTest(tree, point) for point in data]\n",
        "    true_y = [point[goal] for point in data]    \n",
        "    N = len(prediction_y)\n",
        "    prediction_y = np.array(prediction_y)\n",
        "    true_y = np.array(true_y)\n",
        "    \n",
        "    return (true_y == prediction_y).sum() / N\n",
        "\n",
        "max_depths = [i for i in range(10)]\n",
        "scores = list()\n",
        "for i in max_depths:\n",
        "    tree = DecisionTreeTrainWithMaxDepth(df, 'ok', features, max_depth=i)\n",
        "    scores.append(calc_accuracy(tree, 'ok', df))"
      ],
      "execution_count": 77,
      "outputs": []
    }
  ]
}